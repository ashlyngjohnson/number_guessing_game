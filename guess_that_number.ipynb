{
 "cells": [
  {
   "cell_type": "markdown",
   "metadata": {},
   "source": [
    "# Guess the correct number! \n",
    "\n",
    "A random integer from 1 to 100 will be generated. It is your job to guess what that random number is! Since this is a game with no consequences, you can have as many guesses as you want. \n",
    "\n",
    "To initiate the game, \"Run\" button. "
   ]
  },
  {
   "cell_type": "code",
   "execution_count": null,
   "metadata": {},
   "outputs": [],
   "source": [
    "from random import randint\n",
    "\n",
    "random_number = randint(0,100)\n",
    "random_number\n",
    "\n",
    "print(\"You, the player, must choose a random integer from 1 to 100. \\nIf you choose the correct number, you win.\")\n",
    "\n",
    "guesses = []\n",
    "new_guess = int(input(\"Please guess a random integer between 1 and 100 \\n\"))\n",
    "guesses.append(new_guess)\n",
    "\n",
    "while guesses[-1] != random_number:\n",
    "    if guesses[-1] < 1 or guesses[-1] > 100: \n",
    "        print(\"OUT OF BOUNDS!\")\n",
    "        print(\"Input new guess\")\n",
    "        new_guess = int(input())\n",
    "        guesses.append(new_guess)\n",
    "    elif len(guesses) == 1: \n",
    "        if abs(random_number - guesses[0]) <= 10: \n",
    "            print(\"WARM! \\n\")\n",
    "            print(\"Input new guess\")\n",
    "            new_guess = int(input())\n",
    "            guesses.append(new_guess)\n",
    "        else: \n",
    "            print(\"COLD! \\n\")\n",
    "            print(\"Input new guess\")\n",
    "            new_guess = int(input())\n",
    "            guesses.append(new_guess)\n",
    "    elif len(guesses) > 1: \n",
    "        if abs(random_number - guesses[-1]) > abs(random_number - guesses[-2]):\n",
    "            print(\"COLDER! \\n\")\n",
    "            print(\"Input new guess\")\n",
    "            new_guess = int(input())\n",
    "            guesses.append(new_guess)\n",
    "        else:\n",
    "            print(\"WARMER \\n\")\n",
    "            print(\"Input new guess\")\n",
    "            new_guess = int(input())\n",
    "            guesses.append(new_guess)\n",
    "                  \n",
    "else: \n",
    "    guess_count = len(guesses)\n",
    "    print(\"You are correct! Yay!\")\n",
    "    print(\"You guessed {} times\".format(guess_count))"
   ]
  }
 ],
 "metadata": {
  "kernelspec": {
   "display_name": "Python 3",
   "language": "python",
   "name": "python3"
  },
  "language_info": {
   "codemirror_mode": {
    "name": "ipython",
    "version": 3
   },
   "file_extension": ".py",
   "mimetype": "text/x-python",
   "name": "python",
   "nbconvert_exporter": "python",
   "pygments_lexer": "ipython3",
   "version": "3.8.3"
  }
 },
 "nbformat": 4,
 "nbformat_minor": 4
}
